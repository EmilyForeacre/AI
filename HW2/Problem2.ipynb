{
  "nbformat": 4,
  "nbformat_minor": 0,
  "metadata": {
    "colab": {
      "provenance": []
    },
    "kernelspec": {
      "name": "python3",
      "display_name": "Python 3"
    },
    "language_info": {
      "name": "python"
    }
  },
  "cells": [
    {
      "cell_type": "markdown",
      "source": [
        "# Problem 2"
      ],
      "metadata": {
        "id": "2UFg_wDZ39Ha"
      }
    },
    {
      "cell_type": "markdown",
      "source": [
        "<a href=\"https://colab.research.google.com/github/EmilyForeacre/AI/blob/main/HW2/Problem2.ipynb\" target=\"_parent\"><img src=\"https://colab.research.google.com/assets/colab-badge.svg\" alt=\"Open In Colab\"/></a>"
      ],
      "metadata": {
        "id": "F1U5g_2n384Y"
      }
    },
    {
      "cell_type": "code",
      "execution_count": null,
      "metadata": {
        "id": "SV4c4ePw3Flj"
      },
      "outputs": [],
      "source": [
        "from collections import deque\n",
        "\n",
        "def PotentialFriends(graph, root):\n",
        "\n",
        "    visited, queue = set(), deque([(root, 0)])\n",
        "    visited.add(root)\n",
        "\n",
        "    direct_friends = set(graph[root])\n",
        "\n",
        "    # Keep exploring as long as the queue is not empty\n",
        "    while queue:\n",
        "\n",
        "        # Dequeue a vertex from queue\n",
        "        vertex, level = queue.popleft()\n",
        "\n",
        "        # When we reach distance 2, check for potential friends\n",
        "        if level == 2:\n",
        "            if vertex not in direct_friends and vertex != root:\n",
        "                print(vertex, end= ' ')\n",
        "            continue\n",
        "\n",
        "        # If not visited, mark it as visited, and enqueue it\n",
        "        for neighbor in graph[vertex]:\n",
        "            if neighbor not in visited:\n",
        "                visited.add(neighbor)\n",
        "                queue.append((neighbor, level + 1))"
      ]
    },
    {
      "cell_type": "code",
      "source": [
        "G = {\n",
        "    'Maria': {'Adam', 'Sophia', 'Maya', 'David'},\n",
        "    'Adam': {'Maria'},\n",
        "    'Sophia': {'Maria', 'Maya'},\n",
        "    'David': {'Maria', 'Maya'},\n",
        "    'Maya': {'Sophia','David','Maria'}\n",
        "}"
      ],
      "metadata": {
        "id": "xAfZtNjw4TJ4"
      },
      "execution_count": null,
      "outputs": []
    },
    {
      "cell_type": "code",
      "source": [
        "PotentialFriends(G, 'Adam')   # {'Sophia', 'Maya', 'David'}\n",
        "print()\n",
        "PotentialFriends(G, 'David')  # {'Adam', 'Sophia'}\n",
        "print()\n",
        "PotentialFriends(G, 'Sophia') # {'Adam', 'David'}\n"
      ],
      "metadata": {
        "colab": {
          "base_uri": "https://localhost:8080/"
        },
        "id": "k7L-U8kJ4XES",
        "outputId": "a71ce734-e51a-451a-c7fd-4d2a029796e8"
      },
      "execution_count": null,
      "outputs": [
        {
          "output_type": "stream",
          "name": "stdout",
          "text": [
            "Maya David Sophia \n",
            "Sophia Adam \n",
            "David Adam "
          ]
        }
      ]
    }
  ]
}