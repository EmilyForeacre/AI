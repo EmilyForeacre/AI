{
  "nbformat": 4,
  "nbformat_minor": 0,
  "metadata": {
    "colab": {
      "provenance": []
    },
    "kernelspec": {
      "name": "python3",
      "display_name": "Python 3"
    },
    "language_info": {
      "name": "python"
    }
  },
  "cells": [
    {
      "cell_type": "markdown",
      "source": [
        "Emily Foreacre\n",
        "\n",
        "Artifical Intelligence\n",
        "\n",
        "9/26/2025\n",
        "\n",
        "Assignment 2 - Use a DFS to see when given a start node and a goal node if you can get through the maze graphs.  "
      ],
      "metadata": {
        "id": "HwM9hxQt_Y7N"
      }
    },
    {
      "cell_type": "markdown",
      "source": [
        "# Problem 3"
      ],
      "metadata": {
        "id": "aTEBujoJ4Kq4"
      }
    },
    {
      "cell_type": "markdown",
      "source": [
        "<a href=\"https://colab.research.google.com/github/EmilyForeacre/AI/blob/main/HW2/Problem3.ipynb\" target=\"_parent\"><img src=\"https://colab.research.google.com/assets/colab-badge.svg\" alt=\"Open In Colab\"/></a>"
      ],
      "metadata": {
        "id": "f1SErGLU4Huq"
      }
    },
    {
      "cell_type": "code",
      "execution_count": null,
      "metadata": {
        "id": "zVZqjSuG3IX2"
      },
      "outputs": [],
      "source": [
        "from collections import deque\n",
        "\n",
        "def DFS(graph, start, goal):\n",
        "\n",
        "    # deque is list-like container with fast appends and pops on either end\n",
        "    visited, queue = set(), deque([start])\n",
        "    visited.add(start)\n",
        "\n",
        "    # Keep exploring as long as the queue is not empty\n",
        "    while queue:\n",
        "\n",
        "        # Dequeue a vertex from queue\n",
        "        vertex = queue.pop()\n",
        "\n",
        "\n",
        "        # Check if we have reached the goal\n",
        "        if vertex == goal:\n",
        "            return \"SUCCESS\"\n",
        "\n",
        "        # If not visited, mark the node as visited and enqueue it\n",
        "        # Use reversed() to enforce left-to-right ordering\n",
        "        for neighbor in reversed(sorted(graph[vertex])):\n",
        "            if neighbor not in visited:\n",
        "                visited.add(neighbor)\n",
        "                queue.append(neighbor)\n",
        "\n",
        "    return \"FAILURE\""
      ]
    },
    {
      "cell_type": "code",
      "source": [
        "graph1 = {\n",
        "    '0' : {'1', '2'},\n",
        "    '1' : {'1','3'},\n",
        "    '2' : {'0', '6'},\n",
        "    '3' : {'1', '4'},\n",
        "    '4' : {'3', '5'},\n",
        "    '5' : {'4'},\n",
        "    '6' : {'2', '7'},\n",
        "    '7' : {'6', '8'},\n",
        "    '8' : {'7', '9', '10'},\n",
        "    '9' : {'8', '11'},\n",
        "    '10' : {'8', '13'},\n",
        "    '11' : {'9', '12'},\n",
        "    '12' : {'11'},\n",
        "    '13' : {'10', '14'},\n",
        "    '14' : {'13', '15'},\n",
        "    '15' : {'14', '16'},\n",
        "    '16' : {'15', '17'},\n",
        "    '17' : {'16', '18'},\n",
        "    '18' : {'17', '19', '21'},\n",
        "    '19' : {'18', '20'},\n",
        "    '20' : {'19'},\n",
        "    '21' : {'18', '22', '25'},\n",
        "    '22' : {'21', '23'},\n",
        "    '23' : {'22', '24'},\n",
        "    '24' : {'23'},\n",
        "    '25' : {'21', '26'},\n",
        "    '26' : {'25', '27'},\n",
        "    '27' : {'26', '28'},\n",
        "    '28' : {'27', '29'},\n",
        "    '29' : {'28', '30'},\n",
        "    '30' : {'29', '31'},\n",
        "    '31' : {'30', '32', '33'},\n",
        "    '32' : {'31', '35'},\n",
        "    '33' : {'31', '34'},\n",
        "    '34' : {'33', '36'},\n",
        "    '35' : {'32', '37'},\n",
        "    '36' : {'34'},\n",
        "    '37' : {'35', '38'},\n",
        "    '38' : {'37', '39'},\n",
        "    '39' : {'38', '40'},\n",
        "    '40' : {'39', '41'},\n",
        "    '41' : {'40', '42'},\n",
        "    '42' : {'41', '43', '44'},\n",
        "    '43' : {'42', '45'},\n",
        "    '44' : {'42', '46'},\n",
        "    '45' : {'43'},\n",
        "    '46' : {'44', '48', '47'},\n",
        "    '47' : {'46' },\n",
        "    '48' : {'46', '49'},\n",
        "    '49' : {'48'}\n",
        "}\n"
      ],
      "metadata": {
        "id": "7u3r66Qr4KLb"
      },
      "execution_count": null,
      "outputs": []
    },
    {
      "cell_type": "code",
      "source": [
        "result = DFS(graph1, '0', '49')\n",
        "print(result)"
      ],
      "metadata": {
        "colab": {
          "base_uri": "https://localhost:8080/"
        },
        "id": "VjAcMgp34juM",
        "outputId": "7b647e39-95b5-43ae-b141-5e2d66a055a5"
      },
      "execution_count": null,
      "outputs": [
        {
          "output_type": "stream",
          "name": "stdout",
          "text": [
            "SUCCESS\n"
          ]
        }
      ]
    },
    {
      "cell_type": "code",
      "source": [
        "graph2 = {\n",
        "    '0' : {'1', '2'},\n",
        "    '1' : {'1','4'},\n",
        "    '2' : {'0', '3'},\n",
        "    '3' : {'2', '6'},\n",
        "    '4' : {'1', '5'},\n",
        "    '5' : {'4'},\n",
        "    '6' : {'3', '7'},\n",
        "    '7' : {'6'},\n",
        "    '8' : {'9', '10'},\n",
        "    '9' : {'8'},\n",
        "    '10' : {'8', '11'},\n",
        "    '11' : {'10', '12'},\n",
        "    '12' : {'11', '13'},\n",
        "    '13' : {'12', '14'},\n",
        "    '14' : {'13', '15'},\n",
        "    '15' : {'14', '16'},\n",
        "    '16' : {'15', '17'},\n",
        "    '17' : {'16', '18'},\n",
        "    '18' : {'17', '19', '21'},\n",
        "    '19' : {'18', '20'},\n",
        "    '20' : {'19'},\n",
        "    '21' : {'18', '22', '23'},\n",
        "    '22' : {'21', '24'},\n",
        "    '23' : {'21', '26'},\n",
        "    '24' : {'22', '25'},\n",
        "    '25' : {'24'},\n",
        "    '26' : {'23', '27'},\n",
        "    '27' : {'26', '28'},\n",
        "    '28' : {'27', '29'},\n",
        "    '29' : {'28', '30'},\n",
        "    '30' : {'29', '31'},\n",
        "    '31' : {'30', '32', '33'},\n",
        "    '32' : {'31', '36'},\n",
        "    '33' : {'31', '34'},\n",
        "    '34' : {'33', '35'},\n",
        "    '35' : {'34'},\n",
        "    '36' : {'32', '37'},\n",
        "    '37' : {'36', '38'},\n",
        "    '38' : {'37', '39'},\n",
        "    '39' : {'38', '40'},\n",
        "    '40' : {'39', '41'},\n",
        "    '41' : {'40', '42'},\n",
        "    '42' : {'41', '43', '44'},\n",
        "    '43' : {'42', '45'},\n",
        "    '44' : {'42', '46'},\n",
        "    '45' : {'43'},\n",
        "    '46' : {'44', '48', '47'},\n",
        "    '47' : {'46' },\n",
        "    '48' : {'46', '49'},\n",
        "    '49' : {'48'}\n",
        "}"
      ],
      "metadata": {
        "id": "S8c4O3TK4mGp"
      },
      "execution_count": null,
      "outputs": []
    },
    {
      "cell_type": "code",
      "source": [
        "result = DFS(graph2, '0', '49')\n",
        "print(result)"
      ],
      "metadata": {
        "colab": {
          "base_uri": "https://localhost:8080/"
        },
        "id": "wi4wwjbC4qCy",
        "outputId": "6f35bd68-f246-4610-8c09-57fc4d660fc2"
      },
      "execution_count": null,
      "outputs": [
        {
          "output_type": "stream",
          "name": "stdout",
          "text": [
            "FAILURE\n"
          ]
        }
      ]
    }
  ]
}